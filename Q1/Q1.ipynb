{
 "cells": [
  {
   "cell_type": "code",
   "execution_count": 1,
   "metadata": {},
   "outputs": [],
   "source": [
    "import pandas as pd"
   ]
  },
  {
   "cell_type": "code",
   "execution_count": 2,
   "metadata": {},
   "outputs": [],
   "source": [
    "car_data = pd.read_csv('car.data',sep=',')\n",
    "car_data.columns = ['buying', 'maint', 'doors', 'persons', 'lug_boot', 'safety', 'cond_class']\n",
    "car_data.to_csv('car_data.csv', index = False, header=True)"
   ]
  },
  {
   "cell_type": "code",
   "execution_count": 3,
   "metadata": {},
   "outputs": [],
   "source": [
    "# The data need to be converted into the below format\n",
    "# buying, maint, doors, persons, lug_boot, safety, cond_class \n",
    "# [vhigh,low,4,more,small,med,unacc]"
   ]
  },
  {
   "cell_type": "code",
   "execution_count": 9,
   "metadata": {},
   "outputs": [],
   "source": [
    "#Analyze the data to see if there is any data cleaning required\n",
    "# car_data.groupby(['buying']).size()\n",
    "# car_data.groupby(['maint']).size()\n",
    "# car_data.groupby(['doors']).size() --- data cleaning is needed\n",
    "# car_data.groupby(['persons']).size() --- data cleaning is needed\n",
    "# car_data.groupby(['lug_boot']).size()\n",
    "# car_data.groupby(['safety']).size()\n",
    "# car_data.groupby(['cond_class']).size()"
   ]
  },
  {
   "cell_type": "code",
   "execution_count": 5,
   "metadata": {},
   "outputs": [],
   "source": [
    "car_data['doors'] = car_data['doors'].replace(\"5more\",'5')\n",
    "car_data['persons'] = car_data['persons'].replace(\"more\",'6')"
   ]
  },
  {
   "cell_type": "code",
   "execution_count": 6,
   "metadata": {},
   "outputs": [
    {
     "data": {
      "text/plain": [
       "persons\n",
       "2    575\n",
       "4    576\n",
       "6    576\n",
       "dtype: int64"
      ]
     },
     "execution_count": 6,
     "metadata": {},
     "output_type": "execute_result"
    }
   ],
   "source": [
    "car_data.groupby(['doors']).size()\n",
    "car_data.groupby(['persons']).size()"
   ]
  },
  {
   "cell_type": "code",
   "execution_count": 7,
   "metadata": {},
   "outputs": [],
   "source": [
    "car_data.to_csv('car_data.csv', index = False, header=True)"
   ]
  },
  {
   "cell_type": "code",
   "execution_count": 8,
   "metadata": {},
   "outputs": [
    {
     "name": "stdout",
     "output_type": "stream",
     "text": [
      "<class 'pandas.core.frame.DataFrame'>\n",
      "RangeIndex: 1727 entries, 0 to 1726\n",
      "Data columns (total 7 columns):\n",
      " #   Column      Non-Null Count  Dtype \n",
      "---  ------      --------------  ----- \n",
      " 0   buying      1727 non-null   object\n",
      " 1   maint       1727 non-null   object\n",
      " 2   doors       1727 non-null   object\n",
      " 3   persons     1727 non-null   object\n",
      " 4   lug_boot    1727 non-null   object\n",
      " 5   safety      1727 non-null   object\n",
      " 6   cond_class  1727 non-null   object\n",
      "dtypes: object(7)\n",
      "memory usage: 94.6+ KB\n"
     ]
    }
   ],
   "source": [
    "car_data.info()"
   ]
  },
  {
   "cell_type": "code",
   "execution_count": null,
   "metadata": {},
   "outputs": [],
   "source": []
  }
 ],
 "metadata": {
  "kernelspec": {
   "display_name": "Python 3",
   "language": "python",
   "name": "python3"
  },
  "language_info": {
   "codemirror_mode": {
    "name": "ipython",
    "version": 3
   },
   "file_extension": ".py",
   "mimetype": "text/x-python",
   "name": "python",
   "nbconvert_exporter": "python",
   "pygments_lexer": "ipython3",
   "version": "3.7.6"
  }
 },
 "nbformat": 4,
 "nbformat_minor": 4
}
